{
 "cells": [
  {
   "cell_type": "code",
   "execution_count": 139,
   "id": "c94fbcfd",
   "metadata": {},
   "outputs": [],
   "source": [
    "from pynq import Overlay\n",
    "from pynq.lib import AxiGPIO\n",
    "import time\n",
    "from pynq import MMIO\n",
    "import multiprocessing as mp"
   ]
  },
  {
   "cell_type": "code",
   "execution_count": 140,
   "id": "b276a9a0",
   "metadata": {},
   "outputs": [],
   "source": [
    "overlay = Overlay(\"LED.bit\")"
   ]
  },
  {
   "cell_type": "code",
   "execution_count": 141,
   "id": "dadca7d0",
   "metadata": {
    "scrolled": true
   },
   "outputs": [
    {
     "name": "stdout",
     "output_type": "stream",
     "text": [
      "Help on Overlay in module pynq.overlay:\n",
      "\n",
      "<pynq.overlay.Overlay object>\n",
      "    Default documentation for overlay LED.bit. The following\n",
      "    attributes are available on this overlay:\n",
      "    \n",
      "    IP Blocks\n",
      "    ----------\n",
      "    pwm_0                : pynq.overlay.DefaultIP\n",
      "    axi_gpio_0           : pynq.lib.axigpio.AxiGPIO\n",
      "    zynq_ultra_ps_e_0    : pynq.overlay.DefaultIP\n",
      "    \n",
      "    Hierarchies\n",
      "    -----------\n",
      "    None\n",
      "    \n",
      "    Interrupts\n",
      "    ----------\n",
      "    None\n",
      "    \n",
      "    GPIO Outputs\n",
      "    ------------\n",
      "    None\n",
      "    \n",
      "    Memories\n",
      "    ------------\n",
      "    PSDDR                : Memory\n",
      "\n"
     ]
    }
   ],
   "source": [
    "help(overlay)"
   ]
  },
  {
   "cell_type": "code",
   "execution_count": 142,
   "id": "26d9f9c1",
   "metadata": {},
   "outputs": [],
   "source": [
    "def led_ethernet():\n",
    "    led_top.write(1, mask)\n",
    "    led_down.write(1, mask)\n",
    "    time.sleep(1)\n",
    "    \n",
    "    while(1):\n",
    "        led_top.write(0, mask)\n",
    "        time.sleep(sec)\n",
    "\n",
    "        if led_down.read() == 1:\n",
    "            led_down.write(1, mask)\n",
    "        else:\n",
    "            led_down.write(1, mask)\n",
    "            time.sleep(sec)\n",
    "\n",
    "        led_top.write(2, mask)\n",
    "        time.sleep(sec)\n",
    "        led_top.write(3, mask)\n",
    "        time.sleep(sec) \n",
    "\n",
    "        led_down.write(3, mask)\n",
    "        time.sleep(sec)\n",
    "        led_top.write(1, mask)\n",
    "        time.sleep(sec)\n",
    "        led_down.write(2, mask)\n",
    "        time.sleep(sec)\n",
    "        led_down.write(0, mask)\n",
    "        time.sleep(sec)\n",
    "        \n",
    "def led_pwm():\n",
    "    mmio = MMIO(base_address, address_range)\n",
    "    mmio.write(REG0, 17179)\n",
    "    \n",
    "    while(1):\n",
    "        for duty in range(17179, 9999999, 5000):\n",
    "            mmio.write(REG1, duty)\n",
    "            time.sleep(0.1)"
   ]
  },
  {
   "cell_type": "code",
   "execution_count": null,
   "id": "9d10f2de",
   "metadata": {},
   "outputs": [],
   "source": [
    "led_ip = overlay.ip_dict['axi_gpio_0']\n",
    "pwm_ip = overlay.ip_dict['pwm_0']\n",
    "\n",
    "led_top = AxiGPIO(led_ip).channel1\n",
    "led_down = AxiGPIO(led_ip).channel2\n",
    "\n",
    "base_address = 0xA0000000\n",
    "address_range = 0x10000\n",
    "REG0 = 0x00\n",
    "REG1 = 0x04\n",
    "\n",
    "mask = 0xf\n",
    "sec = 0.05\n",
    "\n",
    "p1 = mp.Process(target=led_ethernet)\n",
    "p2 = mp.Process(target=led_pwm)\n",
    "\n",
    "p1.start()\n",
    "p2.start()\n",
    "\n",
    "p1.join()\n",
    "p2.join()\n",
    "    "
   ]
  },
  {
   "cell_type": "code",
   "execution_count": null,
   "id": "72526ccf",
   "metadata": {},
   "outputs": [],
   "source": []
  }
 ],
 "metadata": {
  "kernelspec": {
   "display_name": "Python 3 (ipykernel)",
   "language": "python",
   "name": "python3"
  },
  "language_info": {
   "codemirror_mode": {
    "name": "ipython",
    "version": 3
   },
   "file_extension": ".py",
   "mimetype": "text/x-python",
   "name": "python",
   "nbconvert_exporter": "python",
   "pygments_lexer": "ipython3",
   "version": "3.10.12"
  }
 },
 "nbformat": 4,
 "nbformat_minor": 5
}
